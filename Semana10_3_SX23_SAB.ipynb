{
  "nbformat": 4,
  "nbformat_minor": 0,
  "metadata": {
    "colab": {
      "provenance": [],
      "authorship_tag": "ABX9TyNa0wmD0osBjHPfvNmOUlYs",
      "include_colab_link": true
    },
    "kernelspec": {
      "name": "python3",
      "display_name": "Python 3"
    },
    "language_info": {
      "name": "python"
    }
  },
  "cells": [
    {
      "cell_type": "markdown",
      "metadata": {
        "id": "view-in-github",
        "colab_type": "text"
      },
      "source": [
        "<a href=\"https://colab.research.google.com/github/pciscflo/ClasesArqWeb-2023-1/blob/main/Semana10_3_SX23_SAB.ipynb\" target=\"_parent\"><img src=\"https://colab.research.google.com/assets/colab-badge.svg\" alt=\"Open In Colab\"/></a>"
      ]
    },
    {
      "cell_type": "code",
      "source": [
        "\"\"\"Escriba un programa en PYTHON, que permita calcular el promedio final de los\n",
        "N alumnos que contiene una sección si se sabe que el promedio de cada alumno\n",
        "se obtiene de la siguiente forma:\n",
        "• 55% del Examen Final\n",
        "• 30% de Examen Parcial\n",
        "• 15% del Trabajo final\n",
        "Ejemplo:\n",
        "Ingrese el numero de alumnos: 3\n",
        "Ingrese el EF del Alumno 1:15\n",
        "Ingrese el EP del Alumno 1:10\n",
        "Ingrese el TF del Alumno 1:13\n",
        "Escriba un programa en PYTHON, que permita calcular el promedio final de los N\n",
        "alumnos que contiene una sección si se sabe que el promedio de cada alumno\n",
        "se obtiene de la siguiente forma:\n",
        "• 55% del Examen Final\n",
        "• 30% de Examen Parcial\n",
        "• 15% del Trabajo final\n",
        "\n",
        "Ejemplo:\n",
        "Ingrese el numero de alumnos: 3\n",
        "Ingrese el EF del Alumno 1:15\n",
        "Ingrese el EP del Alumno 1:10\n",
        "Ingrese el TF del Alumno 1:13\n",
        "Su promedio final es: 13.20\n",
        "\n",
        "Ingrese el EF del Alumno 2:12\n",
        "Ingrese el EP del Alumno 2:15\n",
        "Ingrese el TF del Alumno 2:8\n",
        "Su promedio final es: 12.30\n",
        "\n",
        "Ingrese el EF del Alumno 3:18\n",
        "Ingrese el EP del Alumno 3:15\n",
        "Ingrese el TF del Alumno 3:16\n",
        "Su promedio final es: 16.8\n",
        "\"\"\""
      ],
      "metadata": {
        "id": "lvZ413c2P6Ic"
      },
      "execution_count": null,
      "outputs": []
    },
    {
      "cell_type": "code",
      "source": [
        "n = int(input(\"Ingrese numero de alumnos:\"))\n",
        "\n",
        "for i in range(1, n + 1):\n",
        "  ef = int(input(\"Ingrese EF del Alumno\" + str(i) + \":\"))\n",
        "  ep = int(input(\"Ingrese EP del Alumno\" + str(i) + \":\"))\n",
        "  tf = int(input(\"Ingrese TF del Alumno\" + str(i) + \":\"))\n",
        "  promedio = 0.55* ef + 0.3*ep + 0.15*tf\n",
        "  print(f\"Su promedio final es:{promedio:.2f}\")\n",
        "\n"
      ],
      "metadata": {
        "colab": {
          "base_uri": "https://localhost:8080/"
        },
        "id": "qk8b0sTXmQv7",
        "outputId": "f3bea37d-89e7-4ae5-9fdb-2fe962f4efc6"
      },
      "execution_count": null,
      "outputs": [
        {
          "output_type": "stream",
          "name": "stdout",
          "text": [
            "Ingrese numero de alumnos:1\n",
            "Ingrese EF del Alumno1:17\n",
            "Ingrese EP del Alumno1:11\n",
            "Ingrese TF del Alumno1:20\n",
            "Su promedio final es:15.65\n"
          ]
        }
      ]
    },
    {
      "cell_type": "code",
      "source": [
        "\"\"\"Ej 5- Sem 10: Los ministerios de educación y de salud, desean llevar una\n",
        "estadística delos pesos de los alumnos de un colegio estatal de acuerdo a los\n",
        "siguientes rangos:\n",
        "• Alumnos de menos de 40 kg.\n",
        "• Alumnos entre 40 y 50 kg.\n",
        "• Alumnos de más de 50 y menos de 60 kg.\n",
        "• Alumnos de más o igual a 60 kg.\n",
        "Teniendo en cuenta que colegio estatal no tiene más de 50 alumnos, realice\n",
        "una aplicación en PYTHON, que, en primer lugar, reciba como dato el número de\n",
        "alumnos que tiene el salón y luego por cada alumno permita el registro de su\n",
        "peso. La aplicación deberá mostrar como resultado la cantidad de alumnos que\n",
        "hay por cada uno de los rangos de los cuales se desea obtener una estadística.\n",
        "Ejemplo:\n",
        "Ingrese el numero de alumnos: 7\n",
        "Peso alumno 1:34\n",
        "Peso alumno 2:54\n",
        "Peso alumno 3:40\n",
        "Peso alumno 4:50\n",
        "Peso alumno 5:65\n",
        "Peso alumno 6:55\n",
        "Peso alumno 7:48\n",
        "Alumnos de menos de 40 kg: 1\n",
        "Alumnos entre 40 y 50 kg: 3\n",
        "Alumnos de más de 50 y menos de 60 kg: 2\n",
        "Alumnos de 60 kg o más:1\n",
        "\"\"\""
      ],
      "metadata": {
        "id": "He7kbDBOQISx"
      },
      "execution_count": null,
      "outputs": []
    },
    {
      "cell_type": "code",
      "source": [
        "n = int(input(\"Ingrese numero de alumnos:\"))\n",
        "c40 = 0\n",
        "c4050 = 0\n",
        "c6050 = 0\n",
        "c60 = 0\n",
        "for i in range(1, n +1):\n",
        "  peso = float(input(\"Ingrese peso del alumno\" + str(i) + \":\"))\n",
        "  if peso<40:\n",
        "    c40 += 1\n",
        "  elif  peso >= 40 and peso < 50 :\n",
        "    c4050 += 1\n",
        "  elif  peso < 60 and peso >=50 :\n",
        "    c6050 += 1\n",
        "  else:\n",
        "    c60 += 1\n",
        "\n",
        "print(\"Alumnos con peso menos de 40:\", c40)\n",
        "print(\"Alumnos con peso de 40 a 50:\", c4050)\n",
        "print(\"Alumnos con peso de 50 a 60:\", c6050)\n",
        "print(\"Alumnos con peso mayor o igual a 60:\", c60)"
      ],
      "metadata": {
        "colab": {
          "base_uri": "https://localhost:8080/"
        },
        "id": "08os-wbVqtjf",
        "outputId": "259074f1-9c59-42fc-b27b-b8ea76d34f25"
      },
      "execution_count": null,
      "outputs": [
        {
          "output_type": "stream",
          "name": "stdout",
          "text": [
            "Ingrese numero de alumnos:1\n",
            "Ingrese peso del alumno1:50\n",
            "Alumnos con peso menos de 40: 0\n",
            "Alumnos con peso de 40 a 50: 0\n",
            "Alumnos con peso de 50 a 60: 1\n",
            "Alumnos con peso mayor o igual a 60: 0\n"
          ]
        }
      ]
    },
    {
      "cell_type": "code",
      "source": [
        "\"\"\"Prop: Escribir un programa en PYTHON que lea números enteros hasta que se\n",
        "introduzca un 0. La aplicación deberá mostrar por pantalla la cantidad de\n",
        "números leídos, el mayor, el menor, la cantidad de números positivos,\n",
        "la cantidad de números negativos y el promedio de los números ingresados.\n",
        "\"\"\""
      ],
      "metadata": {
        "id": "8My8bSRiMfiB"
      },
      "execution_count": null,
      "outputs": []
    },
    {
      "cell_type": "code",
      "source": [
        "\n",
        "cantidad_numeros = 0\n",
        "suma_numeros = 0\n",
        "numero_mayor = None\n",
        "numero_menor = None\n",
        "numeros_positivos = 0\n",
        "numeros_negativos = 0\n",
        "while True:\n",
        "    numero=int(input(\"Ingrese un numero : \"))\n",
        "    print(numero)\n",
        "    if numero==0:\n",
        "        break;\n",
        "    cantidad_numeros += 1\n",
        "    suma_numeros += numero\n",
        "\n",
        "    if numero_mayor is None or numero > numero_mayor:\n",
        "        numero_mayor = numero\n",
        "\n",
        "    if numero_menor is None or numero < numero_menor:\n",
        "        numero_menor = numero\n",
        "\n",
        "    if numero > 0:\n",
        "        numeros_positivos += 1\n",
        "    elif numero < 0:\n",
        "        numeros_negativos += 1\n",
        "\n",
        "    if cantidad_numeros > 0:\n",
        "        promedio = suma_numeros / cantidad_numeros\n",
        "    else:\n",
        "        promedio = 0\n",
        "\n",
        "\n",
        "print(f\"Números Leídos = {cantidad_numeros}\")\n",
        "print(f\"Número Mayor = {numero_mayor}\")\n",
        "print(f\"Número Menor ={numero_menor}\")\n",
        "print(f\"Numero Positivos ={numeros_positivos}\")\n",
        "print(f\"Número Negativos ={numeros_negativos}\")\n",
        "print(f\"Promedio : {promedio}\")"
      ],
      "metadata": {
        "colab": {
          "base_uri": "https://localhost:8080/"
        },
        "id": "3NADW-_Vx8wV",
        "outputId": "e79596c8-9981-4622-ec04-26f5ebe677fb"
      },
      "execution_count": null,
      "outputs": [
        {
          "output_type": "stream",
          "name": "stdout",
          "text": [
            "Ingrese un numero : 10\n",
            "10\n",
            "Ingrese un numero : 20\n",
            "20\n",
            "Ingrese un numero : -2\n",
            "-2\n",
            "Ingrese un numero : 8\n",
            "8\n",
            "Ingrese un numero : 0\n",
            "0\n",
            "Números Leídos = 4\n",
            "Número Mayor = 20\n",
            "Número Menor =-2\n",
            "Numero Positivos =3\n",
            "Número Negativos =1\n",
            "Promedio : 9.0\n"
          ]
        }
      ]
    },
    {
      "cell_type": "code",
      "source": [
        "#Otra Solución"
      ],
      "metadata": {
        "id": "bejbMP1RMtUn"
      },
      "execution_count": null,
      "outputs": []
    },
    {
      "cell_type": "code",
      "source": [
        "listaNumeros=[]\n",
        "num=None\n",
        "print(\"Ingrese numeros enteros (0 para terminar): \")\n",
        "while num != 0:\n",
        "  try:\n",
        "    num = int(input(\"Ingrese numero:\"))\n",
        "    if num != 0:\n",
        "      listaNumeros.append(num)\n",
        "  except ValueError:\n",
        "      print(\"Por favor, ingrese un número entero válido.\")\n",
        "\n",
        "if listaNumeros: #verificar si la lista no está vacía\n",
        "  cant=len(listaNumeros)\n",
        "  mayor=max(listaNumeros)\n",
        "  menor=min(listaNumeros)\n",
        "  cantidadPositivos = sum(1 for x in listaNumeros if x > 0)\n",
        "  cantidadNegativos = sum(1 for x in listaNumeros if x < 0)\n",
        "  promedio=sum(listaNumeros)/cant\n",
        "\n",
        "  print(\"Cantidad de numeros leídos: \", cant)\n",
        "  print(\"Número mayor: \", mayor)\n",
        "  print(\"Número menor: \", menor)\n",
        "  print(\"Número positivos: \", cantidadPositivos)\n",
        "  print(\"Número negativos: \", cantidadNegativos)\n",
        "  print(\"Promedio: \", promedio)\n",
        "else:\n",
        "    print(\"No se ingresaron números\")"
      ],
      "metadata": {
        "colab": {
          "base_uri": "https://localhost:8080/"
        },
        "id": "Ci2e1rKwzMo-",
        "outputId": "5f539ce7-e628-47d2-89f4-aac60503b59b"
      },
      "execution_count": null,
      "outputs": [
        {
          "output_type": "stream",
          "name": "stdout",
          "text": [
            "Ingrese numeros enteros (0 para terminar): \n",
            "Ingrese numero:12\n",
            "Ingrese numero:20\n",
            "Ingrese numero:-4\n",
            "Ingrese numero:8\n",
            "Ingrese numero:0\n",
            "Cantidad de numeros leídos:  4\n",
            "Número mayor:  20\n",
            "Número menor:  -4\n",
            "Número positivos:  3\n",
            "Número negativos:  1\n",
            "Promedio:  9.0\n"
          ]
        }
      ]
    },
    {
      "cell_type": "code",
      "source": [
        "#Nueva Solución"
      ],
      "metadata": {
        "id": "TZ7FpPXDM0KR"
      },
      "execution_count": null,
      "outputs": []
    },
    {
      "cell_type": "code",
      "source": [
        "lista = []\n",
        "cp = 0\n",
        "cn = 0\n",
        "for i in range(1, 3):\n",
        "  num = int(input(\"Ingrese numero:\"))\n",
        "  lista.append(num)\n",
        "  if num>0:\n",
        "    cp += 1\n",
        "  if num <0\n",
        "    cn += 1\n",
        "\n",
        "print(min(lista))\n",
        "print(max(lista))\n",
        "print(sum(lista)/len(lista))\n",
        "print(cp)\n",
        "print(cn)"
      ],
      "metadata": {
        "colab": {
          "base_uri": "https://localhost:8080/"
        },
        "id": "seGVGISjukot",
        "outputId": "802a61b7-59c3-4cd9-ea4b-4a3b88fa2c79"
      },
      "execution_count": null,
      "outputs": [
        {
          "output_type": "stream",
          "name": "stdout",
          "text": [
            "Ingrese numero:20\n",
            "Ingrese numero:10\n",
            "10\n",
            "20\n",
            "15.0\n"
          ]
        }
      ]
    },
    {
      "cell_type": "code",
      "source": [
        "numeros = []\n",
        "positivos = 0\n",
        "negativos = 0\n",
        "while True:\n",
        "  numero = int(input(\"Ingrese un número: \"))\n",
        "  if numero == 0:\n",
        "    break\n",
        "  numeros.append(numero)\n",
        "  if numero > 0:\n",
        "    positivos += 1\n",
        "  elif numero < 0:\n",
        "    negativos += 1\n",
        "\n",
        "if numeros:\n",
        "  cantidad_numeros = len(numeros)\n",
        "  numero_mayor = max(numeros)\n",
        "  numero_menor = min(numeros)\n",
        "  promedio = sum(numeros) / cantidad_numeros\n",
        "  print(f\"Números Leídos = {cantidad_numeros}\")\n",
        "  print(f\"Número Mayor = {numero_mayor}\")\n",
        "  print(f\"Número Menor = {numero_menor}\")\n",
        "  print(f\"Números Positivos = {positivos}\")\n",
        "  print(f\"Números Negativos = {negativos}\")\n",
        "  print(f\"Promedio = {promedio:.2f}\")\n",
        "else:\n",
        "  print(\"No se ingresaron números.\")"
      ],
      "metadata": {
        "colab": {
          "base_uri": "https://localhost:8080/"
        },
        "id": "Sy4iwu3u0bw4",
        "outputId": "c44f5629-ccdb-40dc-d4e1-fa6c9aec9ee9"
      },
      "execution_count": null,
      "outputs": [
        {
          "output_type": "stream",
          "name": "stdout",
          "text": [
            "Ingrese un número: 20\n",
            "Ingrese un número: 12\n",
            "Ingrese un número: -4\n",
            "Ingrese un número: 8\n",
            "Ingrese un número: 0\n",
            "Números Leídos = 4\n",
            "Número Mayor = 20\n",
            "Número Menor = -4\n",
            "Números Positivos = 3\n",
            "Números Negativos = 1\n",
            "Promedio = 9.00\n"
          ]
        }
      ]
    },
    {
      "cell_type": "code",
      "source": [
        "\"\"\"Escriba un programa en PYTHON que calcule e imprima el valor de la sumatoria\n",
        "de los N primeros términos de la serie.\n",
        "S= 1 + 1/2 + 1/4 + 1/16 +....n términos\n",
        "Ejemplo:\n",
        "Ingrese N: 3\n",
        "La suma es: 1.75\n",
        "\"\"\""
      ],
      "metadata": {
        "id": "c7-3TABzN5cv"
      },
      "execution_count": null,
      "outputs": []
    },
    {
      "cell_type": "code",
      "source": [
        "def sumatoria(n): #Solucion 1\n",
        "  suma = 0.0\n",
        "  for i in range(1, n + 1):\n",
        "    suma += 1/(2**(i-1))\n",
        "  return suma\n",
        "\n",
        "n = int(input(\"Ingresar n:\"))\n",
        "print(sumatoria(3))"
      ],
      "metadata": {
        "colab": {
          "base_uri": "https://localhost:8080/"
        },
        "id": "8WwAJd_67gzy",
        "outputId": "00ff6801-da83-4b9e-f1ae-022179b72d88"
      },
      "execution_count": null,
      "outputs": [
        {
          "output_type": "stream",
          "name": "stdout",
          "text": [
            "Ingresar n:3\n",
            "1.75\n"
          ]
        }
      ]
    },
    {
      "cell_type": "code",
      "source": [
        "lista = [] # solucion 2\n",
        "def sumaSerie(n):\n",
        "  for i in range(1, 1+n):\n",
        "    lista.append(i)\n",
        "  s = sum(1/(2**(i-1)) for i in lista)\n",
        "  return s\n",
        "\n",
        "print(sumaSerie(3))"
      ],
      "metadata": {
        "colab": {
          "base_uri": "https://localhost:8080/"
        },
        "id": "sbwCYhYM8aPq",
        "outputId": "d5af5a6c-f488-40c7-d753-506cb753b2da"
      },
      "execution_count": null,
      "outputs": [
        {
          "output_type": "stream",
          "name": "stdout",
          "text": [
            "1.75\n"
          ]
        }
      ]
    },
    {
      "cell_type": "code",
      "source": [
        "\"\"\" Escriba un programa en PYTHON que calcule e imprima el valor de la sumatoria\n",
        "de los N primeros términos de la serie.\n",
        "S = 1 -1/2 + 1/4 - 1/8 + 1/16 + ...... n términos\n",
        "Ejemplo:\n",
        "Ingrese N: 3\n",
        "La suma es: 0.75\n",
        " \"\"\""
      ],
      "metadata": {
        "id": "tPlbgLHsOrnD"
      },
      "execution_count": null,
      "outputs": []
    },
    {
      "cell_type": "code",
      "source": [
        "# Frank Ejercicio 8 Semana 10\n",
        "\n",
        "def sumatoriaT(n): #Solucion 3\n",
        "  suma = 0.0\n",
        "  for i in range(1, n + 1):\n",
        "    if i % 2 == 0:\n",
        "      suma -= 1/(2**(i-1))\n",
        "    else:\n",
        "      suma += 1/(2**(i-1))\n",
        "  return suma\n",
        "\n",
        "print(sumatoriaT(3))"
      ],
      "metadata": {
        "colab": {
          "base_uri": "https://localhost:8080/"
        },
        "id": "q-Feg1BOAG8D",
        "outputId": "9b7a386f-60bc-4011-baf0-7837bc274a47"
      },
      "execution_count": null,
      "outputs": [
        {
          "output_type": "stream",
          "name": "stdout",
          "text": [
            "0.75\n"
          ]
        }
      ]
    },
    {
      "cell_type": "code",
      "source": [
        "def calcularSumatoria(n):# otra solución\n",
        "    suma=0\n",
        "    for i in range(n):\n",
        "        termino=1/(2**i)\n",
        "        if i%2!=0:\n",
        "            termino*=-1\n",
        "        suma+=termino\n",
        "    return suma\n",
        "\n",
        "print(calcularSumatoria(3))"
      ],
      "metadata": {
        "colab": {
          "base_uri": "https://localhost:8080/"
        },
        "id": "Y5wtvmxcBd5P",
        "outputId": "795dc3ca-5cfb-4268-e63e-1791b4afad39"
      },
      "execution_count": null,
      "outputs": [
        {
          "output_type": "stream",
          "name": "stdout",
          "text": [
            "0.75\n"
          ]
        }
      ]
    },
    {
      "cell_type": "code",
      "source": [
        "\"\"\"Los ministerios de educación y de salud, desean llevar una estadística de\n",
        "los pesos de los alumnos de un colegio estatal de acuerdo a los siguientes\n",
        "rangos:\n",
        "• Alumnos de menos de 40 kg.\n",
        "• Alumnos entre 40 y 50 kg.\n",
        "• Alumnos de más de 50 y menos de 60 kg.\n",
        "• Alumnos de más o igual a 60 kg.\n",
        "Teniendo en cuenta que colegio estatal no tiene más de 50 alumnos, realice\n",
        "una aplicación en PYTHON, que, en primer lugar, reciba como dato el número de\n",
        "alumnos que tiene el salón y luego por cada alumno permita el registro de su\n",
        "peso. La aplicación deberá mostrar como resultado la cantidad de alumnos que\n",
        "hay por cada uno de los rangos de los cuales se desea obtener una estadística.\n",
        "Ejemplo:\n",
        "Ingrese el numero de alumnos: 7\n",
        "Peso alumno 1:34\n",
        "Peso alumno 2:54\n",
        "Peso alumno 3:40\n",
        "Peso alumno 4:50\n",
        "Peso alumno 5:65\n",
        "Peso alumno 6:55\n",
        "Peso alumno 7:48\n",
        "Alumnos de menos de 40 kg: 1\n",
        "Alumnos entre 40 y 50 kg: 3\n",
        "Alumnos de más de 50 y menos de 60 kg: 2\n",
        "Alumnos de 60 kg o más:1\n",
        "\"\"\""
      ],
      "metadata": {
        "id": "0nnIOrCUPK0f"
      },
      "execution_count": null,
      "outputs": []
    },
    {
      "cell_type": "code",
      "source": [
        "n = int(input(\"Ingrese numero de alumnos:\"))\n",
        "c40 = 0\n",
        "c4050 = 0\n",
        "c6050 = 0\n",
        "c60 = 0\n",
        "for i in range(1, n +1):\n",
        "  peso = float(input(\"Ingrese peso del alumno\" + str(i) + \":\"))\n",
        "  if peso<40:\n",
        "    c40 += 1\n",
        "  elif  peso >= 40 and peso < 50 :\n",
        "    c4050 += 1\n",
        "  elif  peso < 60 and peso >=50 :\n",
        "    c6050 += 1\n",
        "  else:\n",
        "    c60 += 1\n",
        "\n",
        "print(\"Alumnos con peso menos de 40:\", c40)\n",
        "print(\"Alumnos con peso de 40 a 50:\", c4050)\n",
        "print(\"Alumnos con peso de 50 a 60:\", c6050)\n",
        "print(\"Alumnos con peso mayor o igual a 60:\", c60)"
      ],
      "metadata": {
        "id": "vKBpJGd1PS87"
      },
      "execution_count": null,
      "outputs": []
    },
    {
      "cell_type": "code",
      "source": [
        "\"\"\"Un entero positivo N es un número perfecto, si es igual a la suma de sus\n",
        "divisores menores que él.\n",
        "Escriba un programa en PYTHON que permita verificar si un entero positivo\n",
        "es perfecto o no.\n",
        "Ejemplo:\n",
        "Ingrese un número: 6\n",
        "Es perfecto\n",
        "Ingrese un número: 28\n",
        "Es perfecto\n",
        "Ingrese un número: 10\n",
        "No es perfecto\n",
        "\"\"\""
      ],
      "metadata": {
        "id": "ESRZP0RNRRc-"
      },
      "execution_count": null,
      "outputs": []
    },
    {
      "cell_type": "code",
      "source": [
        "def es_numero_perfecto(numero):\n",
        "    suma_divisores = 0\n",
        "    for i in range(1, numero):\n",
        "        if numero % i == 0:\n",
        "            suma_divisores += i\n",
        "    return suma_divisores == numero\n",
        "\n",
        "# Test\n",
        "numero = int(input(\"Ingrese un número para verificar si es perfecto: \"))\n",
        "if es_numero_perfecto(numero):\n",
        "    print(f\"{numero} es un número perfecto.\")\n",
        "else:\n",
        "    print(f\"{numero} no es un número perfecto.\")"
      ],
      "metadata": {
        "id": "13iL9426Rdk7"
      },
      "execution_count": null,
      "outputs": []
    },
    {
      "cell_type": "code",
      "source": [
        "import math\n",
        "#Un numero es primo cuando es divisible por si mismo y la unidad.\n",
        "#Considerar que el numero debe ser >1\n",
        "def es_primo(numero):\n",
        "    if numero <= 1:\n",
        "        return False\n",
        "    #for i in range(2, int(math.sqrt(numero)) + 1):\n",
        "    for i in range(2, numero):\n",
        "        if numero % i == 0:\n",
        "            return False\n",
        "    return True\n",
        "\n",
        "# Ejemplo de uso\n",
        "numero = int(input(\"Ingrese un número para verificar si es primo: \"))\n",
        "a = 9\n",
        "if es_primo(numero):\n",
        "    print(f\"{numero} es un número primo.\")\n",
        "else:\n",
        "    print(f\"{numero} no es un número primo.\")"
      ],
      "metadata": {
        "id": "9t8JXoCzR68o"
      },
      "execution_count": null,
      "outputs": []
    },
    {
      "cell_type": "code",
      "source": [
        "# OTRO\n",
        "#pregunta 1 C\n",
        "def sumatoria(x, n):\n",
        "  suma = 0\n",
        "  for i in range(1, n + 1):\n",
        "    suma += x ** (2 * i) ** 2\n",
        "  return suma\n",
        "x = float(input(\"Ingrese el valor de x: \"))\n",
        "n = int(input(\"Ingrese el valor de n: \"))\n",
        "resultado = sumatoria(x, n)\n",
        "print(\"El resultado de la sumatoria es:\", resultado)"
      ],
      "metadata": {
        "id": "Pp0Sj01LSJGm"
      },
      "execution_count": null,
      "outputs": []
    },
    {
      "cell_type": "code",
      "source": [
        "\"\"\"Escriba un programa en PYTHON que permita ingresar un número entero positivo (N),\n",
        "menor que 10, y luego nos permita imprimir un triángulo de N filas formado por dígitos\n",
        "del 1 hasta N.\n",
        "Ejemplo:\n",
        "Ingrese un número: 6\n",
        "1\n",
        "1 2\n",
        "1 2 3\n",
        "1 2 3 4\n",
        "1 2 3 4 5\n",
        "1 2 3 4 5 6\n",
        "\"\"\""
      ],
      "metadata": {
        "id": "l4o_6byZTCCE"
      },
      "execution_count": null,
      "outputs": []
    },
    {
      "cell_type": "code",
      "source": [
        "n = 6\n",
        "for i in range(1, n+1):\n",
        "  for j in range(1, i):\n",
        "    print(j, end=\" \")\n",
        "  print()"
      ],
      "metadata": {
        "colab": {
          "base_uri": "https://localhost:8080/"
        },
        "id": "gyJi7jh_TRiz",
        "outputId": "8e9c399a-dd43-47e7-992b-2394d93d2b02"
      },
      "execution_count": null,
      "outputs": [
        {
          "output_type": "stream",
          "name": "stdout",
          "text": [
            "\n",
            "1 \n",
            "1 2 \n",
            "1 2 3 \n",
            "1 2 3 4 \n",
            "1 2 3 4 5 \n"
          ]
        }
      ]
    },
    {
      "cell_type": "code",
      "source": [
        "\"\"\"Escriba un programa en PYTHON que permita ingresar un número entero positivo\n",
        "(N), menor que 10, y luego nos permita imprimir un triángulo de N filas formado\n",
        "por un carácter que se ingrese como dato.\n",
        "Ejemplo:\n",
        "Ingrese un número: 7\n",
        "Ingrese carácter: *\n",
        "*******\n",
        "******\n",
        "*****\n",
        "****\n",
        "***\n",
        "**\n",
        "*\n",
        "\"\"\""
      ],
      "metadata": {
        "id": "kWss8V6fUNls"
      },
      "execution_count": null,
      "outputs": []
    },
    {
      "cell_type": "code",
      "source": [
        "n = 7\n",
        "for i in range(n+1, 1, -1):\n",
        "  for j in range(1, i):\n",
        "    print(\"*\", end=\" \")\n",
        "  print()"
      ],
      "metadata": {
        "colab": {
          "base_uri": "https://localhost:8080/"
        },
        "id": "_f0vH7gnUZpS",
        "outputId": "1adaa317-429e-4762-d720-64bb74ab4938"
      },
      "execution_count": null,
      "outputs": [
        {
          "output_type": "stream",
          "name": "stdout",
          "text": [
            "* * * * * * * \n",
            "* * * * * * \n",
            "* * * * * \n",
            "* * * * \n",
            "* * * \n",
            "* * \n",
            "* \n"
          ]
        }
      ]
    }
  ]
}